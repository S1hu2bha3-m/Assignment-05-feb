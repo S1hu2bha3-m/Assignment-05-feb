{
 "cells": [
  {
   "cell_type": "markdown",
   "id": "c912f691-4f01-487a-899f-c022551d387a",
   "metadata": {},
   "source": [
    "Q1. Explain Class and Object with respect to Object-Oriented Programming. Give a suitable example."
   ]
  },
  {
   "cell_type": "markdown",
   "id": "0f6ff88c-a30e-4480-a30d-75218cd0a0c5",
   "metadata": {},
   "source": [
    "Ans. Class and Object are two fundamental concepts in Object-Oriented Programming (OOP).\n",
    "Class=> A class is a blueprint or a template for creating objects. It defines the attributes and behaviors that objects created from the class will have.\n",
    "Object=> An object is an instance of a class, created at runtime. Objects have their own state and behavior, defined by the attributes and methods of their class. \n",
    "\n",
    "Example:-"
   ]
  },
  {
   "cell_type": "code",
   "execution_count": 1,
   "id": "e70f3864-a413-4d1c-9efb-e29543d2fc4e",
   "metadata": {},
   "outputs": [
    {
     "name": "stdout",
     "output_type": "stream",
     "text": [
      "John is walking\n",
      "Jane is talking\n"
     ]
    }
   ],
   "source": [
    "class Person:\n",
    "    def __init__(self, name, age, address):\n",
    "        self.name = name\n",
    "        self.age = age\n",
    "        self.address = address\n",
    "\n",
    "    def walk(self):\n",
    "        print(self.name, \"is walking\")\n",
    "\n",
    "    def talk(self):\n",
    "        print(self.name, \"is talking\")\n",
    "\n",
    "person1 = Person(\"John\", 32, \"123 Main St.\")\n",
    "person2 = Person(\"Jane\", 29, \"456 Main St.\")\n",
    "\n",
    "person1.walk()  # Output: John is walking\n",
    "person2.talk()  # Output: Jane is talking\n"
   ]
  },
  {
   "cell_type": "markdown",
   "id": "90026f72-a722-493a-9489-601cc8084f65",
   "metadata": {},
   "source": [
    "Q2. Name the four pillars of OOPs."
   ]
  },
  {
   "cell_type": "markdown",
   "id": "0b77aa26-61e0-4ead-887d-83200aa7be18",
   "metadata": {},
   "source": [
    "Ans. The four pillars of Object-Oriented Programming (OOP) are:\n",
    "\n",
    "1. Abstraction:\n",
    "2. Inheritance:\n",
    "3. Polymorphism:\n",
    "4. Encapsulation:"
   ]
  },
  {
   "cell_type": "markdown",
   "id": "04c743b4-c7a3-4ad6-8ecc-5ed0ca3a5aa2",
   "metadata": {},
   "source": [
    "Q3. Explain why the __init__() function is used. Give a suitable example"
   ]
  },
  {
   "cell_type": "markdown",
   "id": "a201595b-583d-4d97-8bf6-8e7df0dfc519",
   "metadata": {},
   "source": [
    "Ans. The __init__() function is a special method in Python and it is used to initialize the object's state when an object is created. It is called automatically when an object is created, and it is used to set the initial values for the object's attributes. The __init__() function takes the self argument as the first parameter, which refers to the instance being created.\n",
    "\n",
    "For example: "
   ]
  },
  {
   "cell_type": "code",
   "execution_count": 2,
   "id": "8116e826-bf4b-4710-adc0-67f497c202b3",
   "metadata": {},
   "outputs": [
    {
     "name": "stdout",
     "output_type": "stream",
     "text": [
      "John Doe\n",
      "30\n",
      "123 Main Street\n",
      "Jane Doe\n",
      "25\n",
      "456 Oak Street\n"
     ]
    }
   ],
   "source": [
    "class Person:\n",
    "    def __init__(self, name, age, address):\n",
    "        self.name = name\n",
    "        self.age = age\n",
    "        self.address = address\n",
    "\n",
    "person1 = Person(\"John Doe\", 30, \"123 Main Street\")\n",
    "person2 = Person(\"Jane Doe\", 25, \"456 Oak Street\")\n",
    "\n",
    "print(person1.name) \n",
    "print(person1.age) \n",
    "print(person1.address) \n",
    "\n",
    "print(person2.name) \n",
    "print(person2.age) \n",
    "print(person2.address) \n"
   ]
  },
  {
   "cell_type": "markdown",
   "id": "b629060b-9b4e-485f-8923-62352122fc44",
   "metadata": {},
   "source": [
    "Q4. Why self is used in OOPs?"
   ]
  },
  {
   "cell_type": "markdown",
   "id": "23fe8577-b969-4a92-b8c8-4200ddb2610c",
   "metadata": {},
   "source": [
    "Ans. In Object-Oriented Programming (OOP), 'self' is a special parameter that is used to refer to the instance of an object. It is used as a reference to the object itself, and it is automatically passed as the first argument to the object's methods.\n",
    "\n",
    "for example:\n",
    "\n"
   ]
  },
  {
   "cell_type": "code",
   "execution_count": 3,
   "id": "f8ae96e2-00b9-4a38-80c3-ca38f7604127",
   "metadata": {},
   "outputs": [
    {
     "name": "stdout",
     "output_type": "stream",
     "text": [
      "Hi, my name is John Doe\n"
     ]
    }
   ],
   "source": [
    "class Person:\n",
    "    def introduce(self):\n",
    "        print(\"Hi, my name is\", self.name)\n",
    "\n",
    "person = Person()\n",
    "person.name = \"John Doe\"\n",
    "person.introduce() \n"
   ]
  },
  {
   "cell_type": "markdown",
   "id": "ff707e5d-7ba3-4b4a-9a4c-bcbd0bf3efc4",
   "metadata": {},
   "source": [
    "Q5. What is inheritance? Give an example for each type of inheritance."
   ]
  },
  {
   "cell_type": "markdown",
   "id": "c444394f-f81e-4d59-bfa3-4853ae64c83e",
   "metadata": {},
   "source": [
    "Ans. Inheritance is one of the fundamental concepts of Object-Oriented Programming (OOP), and it is used to create new classes based on existing classes. The new class is called the derived class or the child class, and the existing class is called the base class or the parent class.\n",
    "\n",
    "There are several types of inheritance in OOP, including:\n",
    "Single Inheritance: In single inheritance, a derived class inherits from a single base class. "
   ]
  },
  {
   "cell_type": "code",
   "execution_count": 4,
   "id": "74ee0060-bd5f-48b7-a093-6b61d83c8e33",
   "metadata": {},
   "outputs": [
    {
     "name": "stdout",
     "output_type": "stream",
     "text": [
      "Woof!\n"
     ]
    }
   ],
   "source": [
    "class Animal:\n",
    "    def __init__(self, name):\n",
    "        self.name = name\n",
    "\n",
    "class Dog(Animal):\n",
    "    def bark(self):\n",
    "        print(\"Woof!\")\n",
    "\n",
    "dog = Dog(\"Buddy\")\n",
    "dog.bark() \n"
   ]
  },
  {
   "cell_type": "markdown",
   "id": "1f7b1a24-1551-498a-816b-292cc946407c",
   "metadata": {},
   "source": [
    "Multiple Inheritance: In multiple inheritance, a derived class inherits from more than one base class. "
   ]
  },
  {
   "cell_type": "code",
   "execution_count": 5,
   "id": "b7fb162b-3237-4ddf-b858-c954b5ae7237",
   "metadata": {},
   "outputs": [
    {
     "name": "stdout",
     "output_type": "stream",
     "text": [
      "Woof!\n"
     ]
    }
   ],
   "source": [
    "class Animal:\n",
    "    def __init__(self, name):\n",
    "        self.name = name\n",
    "\n",
    "class Mammal:\n",
    "    def __init__(self, species):\n",
    "        self.species = species\n",
    "\n",
    "class Dog(Animal, Mammal):\n",
    "    def bark(self):\n",
    "        print(\"Woof!\")\n",
    "\n",
    "dog = Dog(\"Buddy\")\n",
    "dog.bark() \n"
   ]
  },
  {
   "cell_type": "markdown",
   "id": "4d926941-cb8b-46ba-84ac-69e79da7ff86",
   "metadata": {},
   "source": [
    "Multi-Level Inheritance: In multi-level inheritance, a derived class inherits from a base class, which in turn inherits from another base class."
   ]
  },
  {
   "cell_type": "code",
   "execution_count": null,
   "id": "fd507603-25d9-4fd6-b6a3-db8bd15f22a5",
   "metadata": {},
   "outputs": [],
   "source": [
    "class Animal:\n",
    "    def __init__(self, name):\n",
    "        self.name = name\n",
    "\n",
    "class Mammal(Animal):\n",
    "    def __init__(self, species):\n",
    "        super().__init__(name)\n",
    "        self.species = species\n",
    "\n",
    "class Dog(Mammal):\n",
    "    def bark(self):\n",
    "        print(\"Woof!\")\n",
    "\n",
    "dog = Dog(\"Buddy\", \"Canis lupus familiaris\")\n",
    "dog.bark() # Output: Woof!\n"
   ]
  },
  {
   "cell_type": "markdown",
   "id": "e7c33e57-20a3-4565-abb6-b7816c89d402",
   "metadata": {},
   "source": [
    "Hierarchical Inheritance: In hierarchical inheritance, multiple derived classes inherit from a single base class. "
   ]
  }
 ],
 "metadata": {
  "kernelspec": {
   "display_name": "Python 3 (ipykernel)",
   "language": "python",
   "name": "python3"
  },
  "language_info": {
   "codemirror_mode": {
    "name": "ipython",
    "version": 3
   },
   "file_extension": ".py",
   "mimetype": "text/x-python",
   "name": "python",
   "nbconvert_exporter": "python",
   "pygments_lexer": "ipython3",
   "version": "3.10.8"
  }
 },
 "nbformat": 4,
 "nbformat_minor": 5
}
